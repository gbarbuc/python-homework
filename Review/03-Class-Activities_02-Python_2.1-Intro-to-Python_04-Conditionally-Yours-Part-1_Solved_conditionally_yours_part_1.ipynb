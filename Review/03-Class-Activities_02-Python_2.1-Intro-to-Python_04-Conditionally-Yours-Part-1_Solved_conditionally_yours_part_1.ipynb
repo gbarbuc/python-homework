{
 "cells": [
  {
   "cell_type": "code",
   "execution_count": 3,
   "metadata": {},
   "outputs": [
    {
     "name": "stdout",
     "output_type": "stream",
     "text": [
      "buy\n"
     ]
    }
   ],
   "source": [
    "\"\"\"\n",
    "Conditionally Yours\n",
    "\n",
    "Pseudocode:\n",
    "1. Initialize variables original_price, current_price, increase, percent_increase, recommendation, threshold_to_buy, and threshold_to_sell\n",
    "2. Compoute increase\n",
    "3. Compute percent_increase\n",
    "4. IF percent_increase is greater than or equal to threshold_to_sell\n",
    "        THEN Set recommendation to \"sell\"\n",
    "    ELSE IF percent_increase is less than or equal to threshold_to_buy\n",
    "        THEN set recommendation to \"buy\"\n",
    "    ELSE IF percent_increase is less than threshold_to_sell and greater than threshold_to_buy\n",
    "        THEN set recommendation to \"hold\"\n",
    "    ELSE\n",
    "        THEN print(\"Not enough data to make a decision. Need human input\")\n",
    "5. Print(\"Recommendation: \" + recommendation)\n",
    "\"\"\"\n",
    "\n",
    "original_price=35 \n",
    "current_price=36.2 \n",
    "increase=0.0 \n",
    "percent_increase=0.0 \n",
    "recommendation=\"\"\n",
    "threshold_to_buy=35.2 \n",
    "threshold_to_sell=37.0 \n",
    "\n",
    "increase = current_price - original_price\n",
    "percent_increase = round(increase/original_price*100,2)\n",
    "\n",
    "if percent_increase >= threshold_to_sell:\n",
    "    recommendation=\"sell\"\n",
    "elif percent_increase <= threshold_to_buy:\n",
    "    recommendation=\"buy\"\n",
    "elif percent_increase < threshold_to_sell and percent_increase > threshold_to_buy:\n",
    "    recommendation=\"hold\"\n",
    "else:\n",
    "    print(\"Not enough data to make a decision. Need human input\")\n",
    "    \n",
    "print(recommendation)"
   ]
  },
  {
   "cell_type": "code",
   "execution_count": null,
   "metadata": {},
   "outputs": [],
   "source": []
  }
 ],
 "metadata": {
  "kernelspec": {
   "display_name": "Python 3",
   "language": "python",
   "name": "python3"
  },
  "language_info": {
   "codemirror_mode": {
    "name": "ipython",
    "version": 3
   },
   "file_extension": ".py",
   "mimetype": "text/x-python",
   "name": "python",
   "nbconvert_exporter": "python",
   "pygments_lexer": "ipython3",
   "version": "3.8.3"
  }
 },
 "nbformat": 4,
 "nbformat_minor": 4
}
