{
 "cells": [
  {
   "cell_type": "code",
   "execution_count": 13,
   "metadata": {},
   "outputs": [
    {
     "name": "stdout",
     "output_type": "stream",
     "text": [
      "Total Months 86\n",
      "Total Amount 38382578\n",
      "Average Change -2315.12\n",
      "Greatest Increase 1926159\n",
      "Greatest Decrease -2196167\n"
     ]
    }
   ],
   "source": [
    "\"\"\"\n",
    "Financial records analyzer\n",
    "Created by George Barbuc 18-09-2020\n",
    "\n",
    "20-09-2020 Use dictionaries instead of lists\n",
    "\n",
    "\n",
    "\n",
    "\"\"\"\n",
    "total_months=0\n",
    "total_amount=0\n",
    "overall_change=0\n",
    "av_change=0\n",
    "greatest_increase=0\n",
    "greatest_decrease=0\n",
    "prev_amount=0\n",
    "change_amount=0\n",
    "import csv\n",
    "with open('budget_data.csv', newline='') as csvfile:\n",
    "    budget_data=csv.DictReader(csvfile,delimiter=',',quotechar='|')\n",
    "    \n",
    "    for row in budget_data:\n",
    "     #   print(row['Date'])\n",
    "       \n",
    "        total_months+=1\n",
    "        total_amount+=int(row['Profit/Losses'])\n",
    "        if total_months==1:\n",
    "            prev_amount=int(row['Profit/Losses'])\n",
    "        else:\n",
    "            change_amount=int(row['Profit/Losses'])-prev_amount\n",
    "            prev_amount=int(row['Profit/Losses'])\n",
    "            overall_change+=change_amount\n",
    "        if change_amount>0:\n",
    "            greatest_increase=max(greatest_increase,change_amount)\n",
    "        else:\n",
    "            greatest_decrease=min(greatest_decrease,change_amount)\n",
    "                \n",
    "    av_change=overall_change/(total_months-1)\n",
    "            \n",
    "           # print(', '.join(row))\n",
    "    print('Total Months' , total_months)\n",
    "    print('Total Amount' , total_amount)\n",
    "    print('Average Change' , round(av_change,2))\n",
    "    print('Greatest Increase', greatest_increase)\n",
    "    print('Greatest Decrease', greatest_decrease)\n",
    "    \n"
   ]
  },
  {
   "cell_type": "code",
   "execution_count": null,
   "metadata": {},
   "outputs": [],
   "source": []
  }
 ],
 "metadata": {
  "kernelspec": {
   "display_name": "Python 3",
   "language": "python",
   "name": "python3"
  },
  "language_info": {
   "codemirror_mode": {
    "name": "ipython",
    "version": 3
   },
   "file_extension": ".py",
   "mimetype": "text/x-python",
   "name": "python",
   "nbconvert_exporter": "python",
   "pygments_lexer": "ipython3",
   "version": "3.8.3"
  }
 },
 "nbformat": 4,
 "nbformat_minor": 4
}
